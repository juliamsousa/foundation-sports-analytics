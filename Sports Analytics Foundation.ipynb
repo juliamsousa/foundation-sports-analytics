{
 "cells": [
  {
   "cell_type": "markdown",
   "id": "e85ad917-eccf-4873-a795-4f21cd4dbe93",
   "metadata": {},
   "source": [
    "# Foundation of Sports Analytics: Data, Representation, and Models in Sports"
   ]
  },
  {
   "cell_type": "markdown",
   "id": "5d3744ef-3581-4164-b5d3-89f7b2073d4c",
   "metadata": {},
   "source": [
    "## Pythagorean Expectation and Baseball"
   ]
  },
  {
   "attachments": {},
   "cell_type": "markdown",
   "id": "48ede9ec-7f53-4c97-b1cb-1a2d8865fd46",
   "metadata": {},
   "source": [
    "A medida de Expectativa de Pitágoras (Pythagorean Expectation) é uma medida criada por Bill James para análise esportiva. É um conceito que vem do Baseball, tem relação com vitórias e o sucesso de times medidos por pontos, gols, entre outros, a depender do esporte sendo analisado.\n",
    "\n",
    "Dita que: a porcentagem de jogos que um time vencerá em uma temporada será proporcional à razão do quadradado dos pontos marcados pelo time, dividida pela soma do quadrado dos pontos marcados pelo time e seus oponentes. Esse relacionamento pode ser medido com dados.\n",
    "\n"
   ]
  },
  {
   "cell_type": "markdown",
   "id": "d863a932-5e1e-4428-859c-3163ab3128cb",
   "metadata": {},
   "source": [
    "![Cálculo da Expectativa de Pitágoras](Pythagorean-expectation-in-soccer-betting.png)"
   ]
  },
  {
   "cell_type": "markdown",
   "id": "33153222-f76a-4cf8-8f11-145a84b4ccfa",
   "metadata": {},
   "source": [
    "Exemplo: <https://medium.com/@maatanalista/pythagorean-expectation-um-exemplo-no-cblol-58de4fa16a25>"
   ]
  },
  {
   "cell_type": "code",
   "execution_count": null,
   "id": "f1c65ac3-05f4-4907-93ed-cd587f3551b5",
   "metadata": {},
   "outputs": [],
   "source": [
    "# Importação dos Pacotes\n",
    "import pandas as pd\n",
    "import numpy as np\n",
    "import statsmodels.formula.api as smf\n",
    "import matplotlib.pyplot as plt\n",
    "import seaborn as sns"
   ]
  }
 ],
 "metadata": {
  "kernelspec": {
   "display_name": "Python 3 (ipykernel)",
   "language": "python",
   "name": "python3"
  },
  "language_info": {
   "codemirror_mode": {
    "name": "ipython",
    "version": 3
   },
   "file_extension": ".py",
   "mimetype": "text/x-python",
   "name": "python",
   "nbconvert_exporter": "python",
   "pygments_lexer": "ipython3",
   "version": "3.12.1"
  }
 },
 "nbformat": 4,
 "nbformat_minor": 5
}
